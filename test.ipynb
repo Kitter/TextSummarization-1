{
 "cells": [
  {
   "cell_type": "code",
   "execution_count": 28,
   "metadata": {
    "collapsed": true
   },
   "outputs": [],
   "source": [
    "import gensim\n",
    "import nltk\n",
    "from nltk.tokenize import sent_tokenize\n",
    "from nltk.corpus import stopwords\n",
    "from gensim import corpora, models\n",
    "import numpy as np\n",
    "import pandas as pd\n",
    "from collections import OrderedDict\n",
    "from math import floor,ceil"
   ]
  },
  {
   "cell_type": "markdown",
   "metadata": {},
   "source": [
    "function to load the files and do basic pre-processing"
   ]
  },
  {
   "cell_type": "code",
   "execution_count": 2,
   "metadata": {
    "collapsed": true
   },
   "outputs": [],
   "source": [
    "def loadAndProcess(filename): \n",
    "    f=open(filename)\n",
    "    text=f.read()\n",
    "    sents=sent_tokenize(text) #break the document into smaller sentences\n",
    "    \n",
    "    #remove sentences that have less than 5 words in total\n",
    "    #i=0\n",
    "    #while(i<len(sents)):\n",
    "     #   sent=nltk.word_tokenize(sents[i])\n",
    "      #  if len(sent)<5:\n",
    "       #     del sents[i]\n",
    "       # i=i+1\n",
    "        \n",
    "    #remove stop words\n",
    "    for i in range(len(sents)):\n",
    "        words=nltk.tokenize.RegexpTokenizer(r'\\w+').tokenize(sents[i])\n",
    "        words=[w.lower() for w in words if w not in stopwords.words('english')]\n",
    "        words=\" \".join(words)\n",
    "        sents[i]=words\n",
    "        \n",
    "    return(sents)"
   ]
  },
  {
   "cell_type": "markdown",
   "metadata": {},
   "source": [
    "function to load the files without any pre-processing, i.e. original sentences"
   ]
  },
  {
   "cell_type": "code",
   "execution_count": 5,
   "metadata": {
    "collapsed": true
   },
   "outputs": [],
   "source": [
    "def loadOnly(filename):\n",
    "    f=open(filename)\n",
    "    text=f.read()\n",
    "    sents=sent_tokenize(text) #break the document into smaller sentences\n",
    "    \n",
    "    #remove sentences that have less than 5 words in total\n",
    "    #i=0\n",
    "    #while(i<len(sents)):\n",
    "     #   sent=nltk.word_tokenize(sents[i])\n",
    "      #  if len(sent)<5:\n",
    "       #     del sents[i]\n",
    "        #i=i+1\n",
    "    return(sents)        "
   ]
  },
  {
   "cell_type": "markdown",
   "metadata": {},
   "source": [
    "prepare a dictionary and corpus for lda"
   ]
  },
  {
   "cell_type": "code",
   "execution_count": null,
   "metadata": {
    "collapsed": true
   },
   "outputs": [],
   "source": [
    "def prepareCorpus(sentences):\n",
    "    text=list()\n",
    "    for i in range(len(sentences)):\n",
    "        words=nltk.word_tokenize(sentences[i])\n",
    "        text.append(words)\n",
    "    dictionary = corpora.Dictionary(text)\n",
    "    corpus = [dictionary.doc2bow(t) for t in text]\n",
    "    return(dictionary,corpus)"
   ]
  },
  {
   "cell_type": "markdown",
   "metadata": {},
   "source": [
    "load and run lda"
   ]
  },
  {
   "cell_type": "code",
   "execution_count": 7,
   "metadata": {
    "collapsed": false
   },
   "outputs": [],
   "source": [
    "original=loadOnly(\"data\")  #original sentences without any pre processing\n",
    "sents=loadAndProcess(\"data\") #processed sentences\n",
    "dic,corp=prepareCorpus(sents) #dictionary and corpus\n",
    "numOfTopics=2           #change as per need\n",
    "ldamodel = gensim.models.ldamodel.LdaModel(corpus=corp, num_topics=numOfTopics, id2word = dic, passes=20)"
   ]
  },
  {
   "cell_type": "markdown",
   "metadata": {},
   "source": [
    "create a sentences-topic matrix which is stored in a numpy array"
   ]
  },
  {
   "cell_type": "code",
   "execution_count": 11,
   "metadata": {
    "collapsed": false
   },
   "outputs": [],
   "source": [
    "docsTopicMatrix=np.zeros((len(sents),numOfTopics))\n",
    "for i in range(len(sents)):\n",
    "    topicsList=ldamodel.get_document_topics(corp[i],minimum_probability=0)\n",
    "    for j in range(len(topicsList)):\n",
    "        docsTopicMatrix[i,j]=topicsList[j][1]  "
   ]
  },
  {
   "cell_type": "markdown",
   "metadata": {},
   "source": [
    "For each topic we pick out the best (2\\*n/3k). This gives us a reduced set of sentences for each topic. These sentence numbers are stored in a numpy array.  "
   ]
  },
  {
   "cell_type": "code",
   "execution_count": 45,
   "metadata": {
    "collapsed": true
   },
   "outputs": [],
   "source": [
    "numOfSents=docsTopicMatrix.shape[0]\n",
    "reducedNumOfSents=floor((2*numOfSents)/(3*numOfTopics))\n",
    "reduced_sent_matrix=np.zeros((reducedNumOfSents,numOfTopics))"
   ]
  },
  {
   "cell_type": "markdown",
   "metadata": {},
   "source": [
    "Loop through each column of the docs-Topic matrix and pick out the top 2n/3k sentence numbers for each topic. "
   ]
  },
  {
   "cell_type": "code",
   "execution_count": 46,
   "metadata": {
    "collapsed": false
   },
   "outputs": [],
   "source": [
    "for j in range(numOfTopics):\n",
    "    #for each column, store sentence number and weight pairs in a matrix\n",
    "    temp_dict={}\n",
    "    for i in range(numOfSents):\n",
    "        temp_dict[i]=docsTopicMatrix[i,j]\n",
    "    \n",
    "    #choose the top 2n/3k sentences by finding the max element and deleting it from the dictionary 2n/3k times     \n",
    "    for i in range(reducedNumOfSents):\n",
    "        k=max(temp_dict, key=temp_dict.get)\n",
    "        v=temp_dict.pop(k, None)\n",
    "        reduced_sent_matrix[i,j]=k"
   ]
  },
  {
   "cell_type": "code",
   "execution_count": 47,
   "metadata": {
    "collapsed": false
   },
   "outputs": [
    {
     "data": {
      "text/plain": [
       "array([[ 92.,  60.],\n",
       "       [  3.,  42.],\n",
       "       [ 74.,  45.],\n",
       "       [ 99.,   1.],\n",
       "       [ 87.,  43.],\n",
       "       [ 95.,  98.],\n",
       "       [ 80.,  61.],\n",
       "       [ 54.,  15.],\n",
       "       [ 84.,  34.],\n",
       "       [ 40.,  14.],\n",
       "       [ 67.,  51.],\n",
       "       [ 75.,  71.],\n",
       "       [  8.,  16.],\n",
       "       [ 10.,  90.],\n",
       "       [ 35.,  38.],\n",
       "       [ 66.,  65.],\n",
       "       [ 23.,  62.],\n",
       "       [ 86.,  41.],\n",
       "       [ 78.,  46.],\n",
       "       [ 27.,   7.],\n",
       "       [ 59.,  58.],\n",
       "       [ 70.,  96.],\n",
       "       [ 69.,  32.],\n",
       "       [ 97.,   5.],\n",
       "       [ 93.,  83.],\n",
       "       [ 25.,  56.],\n",
       "       [ 36.,  55.],\n",
       "       [ 12.,  63.],\n",
       "       [ 31.,  44.],\n",
       "       [ 91.,  89.],\n",
       "       [  9.,  13.],\n",
       "       [ 76.,  21.],\n",
       "       [ 18.,  49.]])"
      ]
     },
     "execution_count": 47,
     "metadata": {},
     "output_type": "execute_result"
    }
   ],
   "source": [
    "reduced_sent_matrix"
   ]
  },
  {
   "cell_type": "code",
   "execution_count": null,
   "metadata": {
    "collapsed": true
   },
   "outputs": [],
   "source": []
  }
 ],
 "metadata": {
  "anaconda-cloud": {},
  "kernelspec": {
   "display_name": "Python [conda root]",
   "language": "python",
   "name": "conda-root-py"
  },
  "language_info": {
   "codemirror_mode": {
    "name": "ipython",
    "version": 3
   },
   "file_extension": ".py",
   "mimetype": "text/x-python",
   "name": "python",
   "nbconvert_exporter": "python",
   "pygments_lexer": "ipython3",
   "version": "3.5.2"
  }
 },
 "nbformat": 4,
 "nbformat_minor": 1
}
