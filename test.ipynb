{
 "cells": [
  {
   "cell_type": "code",
   "execution_count": 1,
   "metadata": {
    "collapsed": false
   },
   "outputs": [],
   "source": [
    "import gensim\n",
    "import nltk\n",
    "from nltk.tokenize import sent_tokenize\n",
    "from nltk.corpus import stopwords\n",
    "from gensim import corpora, models\n",
    "import numpy as np\n",
    "import pandas as pd\n",
    "from collections import OrderedDict\n",
    "from math import floor,ceil\n",
    "from gensim.matutils import kullback_leibler, jaccard, hellinger, sparse2full"
   ]
  },
  {
   "cell_type": "markdown",
   "metadata": {},
   "source": [
    "function to load the files and do basic pre-processing"
   ]
  },
  {
   "cell_type": "code",
   "execution_count": 2,
   "metadata": {
    "collapsed": true
   },
   "outputs": [],
   "source": [
    "def loadAndProcess(filename): \n",
    "    f=open(filename)\n",
    "    text=f.read()\n",
    "    sents=sent_tokenize(text) #break the document into smaller sentences\n",
    "    \n",
    "    #remove sentences that have less than 5 words in total\n",
    "    #i=0\n",
    "    #while(i<len(sents)):\n",
    "     #   sent=nltk.word_tokenize(sents[i])\n",
    "      #  if len(sent)<5:\n",
    "       #     del sents[i]\n",
    "       # i=i+1\n",
    "        \n",
    "    #remove stop words\n",
    "    for i in range(len(sents)):\n",
    "        words=nltk.tokenize.RegexpTokenizer(r'\\w+').tokenize(sents[i])\n",
    "        words=[w.lower() for w in words if w not in stopwords.words('english')]\n",
    "        words=\" \".join(words)\n",
    "        sents[i]=words\n",
    "        \n",
    "    return(sents)"
   ]
  },
  {
   "cell_type": "markdown",
   "metadata": {},
   "source": [
    "function to load the files without any pre-processing, i.e. original sentences"
   ]
  },
  {
   "cell_type": "code",
   "execution_count": 3,
   "metadata": {
    "collapsed": true
   },
   "outputs": [],
   "source": [
    "def loadOnly(filename):\n",
    "    f=open(filename)\n",
    "    text=f.read()\n",
    "    sents=sent_tokenize(text) #break the document into smaller sentences\n",
    "    \n",
    "    #remove sentences that have less than 5 words in total\n",
    "    #i=0\n",
    "    #while(i<len(sents)):\n",
    "     #   sent=nltk.word_tokenize(sents[i])\n",
    "      #  if len(sent)<5:\n",
    "       #     del sents[i]\n",
    "        #i=i+1\n",
    "    return(sents)        "
   ]
  },
  {
   "cell_type": "markdown",
   "metadata": {},
   "source": [
    "prepare a dictionary and corpus for lda"
   ]
  },
  {
   "cell_type": "code",
   "execution_count": 4,
   "metadata": {
    "collapsed": true
   },
   "outputs": [],
   "source": [
    "def prepareCorpus(sentences):\n",
    "    text=list()\n",
    "    for i in range(len(sentences)):\n",
    "        words=nltk.word_tokenize(sentences[i])\n",
    "        text.append(words)\n",
    "    dictionary = corpora.Dictionary(text)\n",
    "    corpus = [dictionary.doc2bow(t) for t in text]\n",
    "    return(dictionary,corpus)"
   ]
  },
  {
   "cell_type": "markdown",
   "metadata": {},
   "source": [
    "Functions that we will use later"
   ]
  },
  {
   "cell_type": "code",
   "execution_count": 5,
   "metadata": {
    "collapsed": true
   },
   "outputs": [],
   "source": [
    "def generateSimilarityMatrix():\n",
    "    similarityMatrix=np.zeros((numOfTopics,numOfTopics))\n",
    "    for i in range(numOfTopics):\n",
    "        ti_dist=sorted(ldamodel.get_topic_terms(i,topn=ldamodel.num_terms))\n",
    "        for j in range(numOfTopics):\n",
    "            tj_dist=sorted(ldamodel.get_topic_terms(j,topn=ldamodel.num_terms))\n",
    "            sim=1-hellinger(ti_dist,tj_dist)\n",
    "            similarityMatrix[i,j]=sim\n",
    "    return(similarityMatrix)"
   ]
  },
  {
   "cell_type": "code",
   "execution_count": 6,
   "metadata": {
    "collapsed": true
   },
   "outputs": [],
   "source": [
    "def greaterThanThreshhold(matrix,thresh):\n",
    "    m,n=matrix.shape\n",
    "    greaterThan=False\n",
    "    for i in range(m):\n",
    "        for j in range(n):\n",
    "            if i==j:\n",
    "                continue\n",
    "            else:\n",
    "                if matrix[i,j]>thresh:\n",
    "                    greaterThan=True\n",
    "    return(greaterThan) "
   ]
  },
  {
   "cell_type": "markdown",
   "metadata": {},
   "source": [
    "load and run lda"
   ]
  },
  {
   "cell_type": "code",
   "execution_count": 7,
   "metadata": {
    "collapsed": false
   },
   "outputs": [],
   "source": [
    "original=loadOnly(\"data\")  #original sentences without any pre processing\n",
    "sents=loadAndProcess(\"data\") #processed sentences\n",
    "dic,corp=prepareCorpus(sents) #dictionary and corpus"
   ]
  },
  {
   "cell_type": "markdown",
   "metadata": {},
   "source": [
    "start with an arbitrary number of topics"
   ]
  },
  {
   "cell_type": "code",
   "execution_count": 8,
   "metadata": {
    "collapsed": true
   },
   "outputs": [],
   "source": [
    "numOfTopics=10          #change as per need"
   ]
  },
  {
   "cell_type": "code",
   "execution_count": 10,
   "metadata": {
    "collapsed": false
   },
   "outputs": [
    {
     "name": "stdout",
     "output_type": "stream",
     "text": [
      "0 iteration\n",
      "1 iteration\n",
      "2 iteration\n",
      "3 iteration\n",
      "7\n"
     ]
    }
   ],
   "source": [
    "i=0\n",
    "while(True):\n",
    "    print(i,\"iteration\")\n",
    "    ldamodel = gensim.models.ldamodel.LdaModel(corpus=corp, num_topics=numOfTopics, id2word = dic, passes=20)    \n",
    "    sm=generateSimilarityMatrix()\n",
    "    greaterThan=greaterThanThreshhold(sm,0.55)\n",
    "    \n",
    "    if(greaterThan):\n",
    "        numOfTopics=numOfTopics-1\n",
    "    else:\n",
    "        print(numOfTopics)\n",
    "        break\n",
    " \n",
    "    i=i+1"
   ]
  },
  {
   "cell_type": "markdown",
   "metadata": {},
   "source": [
    "create a sentences-topic matrix which is stored in a numpy array"
   ]
  },
  {
   "cell_type": "code",
   "execution_count": 11,
   "metadata": {
    "collapsed": false
   },
   "outputs": [],
   "source": [
    "docsTopicMatrix=np.zeros((len(sents),numOfTopics))\n",
    "for i in range(len(sents)):\n",
    "    topicsList=ldamodel.get_document_topics(corp[i],minimum_probability=0)\n",
    "    for j in range(len(topicsList)):\n",
    "        docsTopicMatrix[i,j]=topicsList[j][1]  "
   ]
  },
  {
   "cell_type": "markdown",
   "metadata": {},
   "source": [
    "For each topic we pick out the best (2\\*n/3k). This gives us a reduced set of sentences for each topic. These sentence numbers are stored in a numpy array.  "
   ]
  },
  {
   "cell_type": "code",
   "execution_count": 12,
   "metadata": {
    "collapsed": true
   },
   "outputs": [],
   "source": [
    "numOfSents=docsTopicMatrix.shape[0]\n",
    "reducedNumOfSents=floor((2*numOfSents)/(3*numOfTopics))\n",
    "reduced_sent_matrix=np.zeros((reducedNumOfSents,numOfTopics))"
   ]
  },
  {
   "cell_type": "markdown",
   "metadata": {},
   "source": [
    "Loop through each column of the docs-Topic matrix and pick out the top 2n/3k sentence numbers for each topic. "
   ]
  },
  {
   "cell_type": "code",
   "execution_count": 13,
   "metadata": {
    "collapsed": false
   },
   "outputs": [],
   "source": [
    "for j in range(numOfTopics):\n",
    "    #for each column, store sentence number and weight pairs in a matrix\n",
    "    temp_dict={}\n",
    "    for i in range(numOfSents):\n",
    "        temp_dict[i]=docsTopicMatrix[i,j]\n",
    "    \n",
    "    #choose the top 2n/3k sentences by finding the max element and deleting it from the dictionary 2n/3k times     \n",
    "    for i in range(reducedNumOfSents):\n",
    "        k=max(temp_dict, key=temp_dict.get)\n",
    "        v=temp_dict.pop(k, None)\n",
    "        reduced_sent_matrix[i,j]=k"
   ]
  },
  {
   "cell_type": "code",
   "execution_count": 14,
   "metadata": {
    "collapsed": false
   },
   "outputs": [
    {
     "data": {
      "text/plain": [
       "array([[ 42.,  99.,  92.,   3.,  87.,  45.,  60.],\n",
       "       [ 54.,  56.,  74.,  61.,  95.,  84.,  14.],\n",
       "       [ 40.,  80.,   1.,  51.,  43.,  15.,  35.],\n",
       "       [ 88.,  98.,  46.,  66.,  34.,  67.,  83.],\n",
       "       [ 16.,  75.,  38.,  78.,  10.,  65.,  63.],\n",
       "       [ 47.,  62.,  86.,  21.,  41.,  27.,  44.],\n",
       "       [ 59.,  71.,  49.,  77.,  90.,  55.,  89.],\n",
       "       [ 69.,   8.,  94.,  76.,  23.,  13.,  64.],\n",
       "       [ 29.,  96.,  57.,  91.,   5.,   2.,  48.]])"
      ]
     },
     "execution_count": 14,
     "metadata": {},
     "output_type": "execute_result"
    }
   ],
   "source": [
    "reduced_sent_matrix"
   ]
  },
  {
   "cell_type": "code",
   "execution_count": null,
   "metadata": {
    "collapsed": true
   },
   "outputs": [],
   "source": []
  }
 ],
 "metadata": {
  "anaconda-cloud": {},
  "kernelspec": {
   "display_name": "Python [conda root]",
   "language": "python",
   "name": "conda-root-py"
  },
  "language_info": {
   "codemirror_mode": {
    "name": "ipython",
    "version": 3
   },
   "file_extension": ".py",
   "mimetype": "text/x-python",
   "name": "python",
   "nbconvert_exporter": "python",
   "pygments_lexer": "ipython3",
   "version": "3.5.2"
  }
 },
 "nbformat": 4,
 "nbformat_minor": 1
}
