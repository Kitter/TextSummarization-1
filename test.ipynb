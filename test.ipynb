{
 "cells": [
  {
   "cell_type": "code",
   "execution_count": 1,
   "metadata": {
    "collapsed": false
   },
   "outputs": [],
   "source": [
    "import gensim\n",
    "import nltk\n",
    "from nltk.tokenize import sent_tokenize\n",
    "from nltk.corpus import stopwords\n",
    "from gensim import corpora, models\n",
    "import numpy as np\n",
    "import pandas as pd\n",
    "from collections import OrderedDict\n",
    "from math import floor,ceil\n",
    "from gensim.matutils import kullback_leibler, jaccard, hellinger, sparse2full\n",
    "import os"
   ]
  },
  {
   "cell_type": "markdown",
   "metadata": {},
   "source": [
    "function to load individual document from a folder"
   ]
  },
  {
   "cell_type": "code",
   "execution_count": 2,
   "metadata": {
    "collapsed": true
   },
   "outputs": [],
   "source": [
    "def loadBook(folder,filename):\n",
    "    filepath=folder + \"/\" + filename\n",
    "    f=open(filepath)\n",
    "    raw=f.read()\n",
    "    return(raw)"
   ]
  },
  {
   "cell_type": "markdown",
   "metadata": {},
   "source": [
    "function to load all the books from a folder, break them into sentences and remove stopwords from each sentence. "
   ]
  },
  {
   "cell_type": "code",
   "execution_count": 11,
   "metadata": {
    "collapsed": true
   },
   "outputs": [],
   "source": [
    "def loadAndProcess(folder): \n",
    "    docs=list()\n",
    "    for file in os.listdir(folder):\n",
    "        #print(file)\n",
    "        book=loadBook(folder,file)\n",
    "        docs.append(book)\n",
    "    \n",
    "    text=\" \".join(docs)\n",
    "    sents=sent_tokenize(text) #break the document into smaller sentences\n",
    "    \n",
    "    #remove stop words\n",
    "    for i in range(len(sents)):\n",
    "        words=nltk.tokenize.RegexpTokenizer(r'\\w+').tokenize(sents[i])\n",
    "        words=[w.lower() for w in words if w not in stopwords.words('english')]\n",
    "        words=\" \".join(words)\n",
    "        sents[i]=words\n",
    "        \n",
    "    return(sents)"
   ]
  },
  {
   "cell_type": "markdown",
   "metadata": {},
   "source": [
    "function to load the docs without any pre-processing, i.e. original sentences"
   ]
  },
  {
   "cell_type": "code",
   "execution_count": 12,
   "metadata": {
    "collapsed": false
   },
   "outputs": [],
   "source": [
    "def loadOnly(folder):\n",
    "    docs=list()\n",
    "    for file in os.listdir(folder):\n",
    "        #print(file)\n",
    "        book=loadBook(folder,file)\n",
    "        docs.append(book)\n",
    "    \n",
    "    text=\" \".join(docs)\n",
    "    sents=sent_tokenize(text) #break the document into smaller sentences\n",
    "\n",
    "    return(sents)        "
   ]
  },
  {
   "cell_type": "markdown",
   "metadata": {},
   "source": [
    "prepare a dictionary and corpus for lda"
   ]
  },
  {
   "cell_type": "code",
   "execution_count": 5,
   "metadata": {
    "collapsed": true
   },
   "outputs": [],
   "source": [
    "def prepareCorpus(sentences):\n",
    "    text=list()\n",
    "    for i in range(len(sentences)):\n",
    "        words=nltk.word_tokenize(sentences[i])\n",
    "        text.append(words)\n",
    "    dictionary = corpora.Dictionary(text)\n",
    "    corpus = [dictionary.doc2bow(t) for t in text]\n",
    "    return(dictionary,corpus)"
   ]
  },
  {
   "cell_type": "markdown",
   "metadata": {},
   "source": [
    "Functions that we will use later"
   ]
  },
  {
   "cell_type": "code",
   "execution_count": 6,
   "metadata": {
    "collapsed": true
   },
   "outputs": [],
   "source": [
    "def generateSimilarityMatrix():\n",
    "    similarityMatrix=np.zeros((numOfTopics,numOfTopics))\n",
    "    for i in range(numOfTopics):\n",
    "        ti_dist=sorted(ldamodel.get_topic_terms(i,topn=ldamodel.num_terms))\n",
    "        for j in range(numOfTopics):\n",
    "            tj_dist=sorted(ldamodel.get_topic_terms(j,topn=ldamodel.num_terms))\n",
    "            sim=1-hellinger(ti_dist,tj_dist)\n",
    "            similarityMatrix[i,j]=sim\n",
    "    return(similarityMatrix)"
   ]
  },
  {
   "cell_type": "code",
   "execution_count": 7,
   "metadata": {
    "collapsed": true
   },
   "outputs": [],
   "source": [
    "def greaterThanThreshhold(matrix,thresh):\n",
    "    m,n=matrix.shape\n",
    "    greaterThan=False\n",
    "    for i in range(m):\n",
    "        for j in range(n):\n",
    "            if i==j:\n",
    "                continue\n",
    "            else:\n",
    "                if matrix[i,j]>thresh:\n",
    "                    greaterThan=True\n",
    "    return(greaterThan) "
   ]
  },
  {
   "cell_type": "markdown",
   "metadata": {},
   "source": [
    "load and run lda"
   ]
  },
  {
   "cell_type": "code",
   "execution_count": 13,
   "metadata": {
    "collapsed": false
   },
   "outputs": [],
   "source": [
    "original=loadOnly(\"docs\")\n",
    "#original sentences without any pre processing\n",
    "sents=loadAndProcess(\"docs\") #processed sentences\n",
    "dic,corp=prepareCorpus(sents) #dictionary and corpus"
   ]
  },
  {
   "cell_type": "markdown",
   "metadata": {},
   "source": [
    "set number of topics to 2 times the number of documents"
   ]
  },
  {
   "cell_type": "code",
   "execution_count": 23,
   "metadata": {
    "collapsed": false
   },
   "outputs": [],
   "source": [
    "numOfDocs=len(os.listdir(\"docs\"))   "
   ]
  },
  {
   "cell_type": "code",
   "execution_count": 24,
   "metadata": {
    "collapsed": true
   },
   "outputs": [],
   "source": [
    "numOfTopics=2*numOfDocs         #change as per need"
   ]
  },
  {
   "cell_type": "code",
   "execution_count": 25,
   "metadata": {
    "collapsed": false
   },
   "outputs": [
    {
     "name": "stdout",
     "output_type": "stream",
     "text": [
      "0 iteration\n",
      "22\n"
     ]
    }
   ],
   "source": [
    "i=0\n",
    "while(True):\n",
    "    print(i,\"iteration\")\n",
    "    ldamodel = gensim.models.ldamodel.LdaModel(corpus=corp, num_topics=numOfTopics, id2word = dic, passes=20)    \n",
    "    sm=generateSimilarityMatrix()\n",
    "    greaterThan=greaterThanThreshhold(sm,0.55)\n",
    "    \n",
    "    if(greaterThan):\n",
    "        numOfTopics=numOfTopics-1\n",
    "    else:\n",
    "        print(numOfTopics)\n",
    "        break\n",
    " \n",
    "    i=i+1"
   ]
  },
  {
   "cell_type": "markdown",
   "metadata": {},
   "source": [
    "create a sentences-topic matrix which is stored in a numpy array"
   ]
  },
  {
   "cell_type": "code",
   "execution_count": 26,
   "metadata": {
    "collapsed": false
   },
   "outputs": [],
   "source": [
    "docsTopicMatrix=np.zeros((len(sents),numOfTopics))\n",
    "for i in range(len(sents)):\n",
    "    topicsList=ldamodel.get_document_topics(corp[i],minimum_probability=0)\n",
    "    for j in range(len(topicsList)):\n",
    "        docsTopicMatrix[i,j]=topicsList[j][1]  "
   ]
  },
  {
   "cell_type": "markdown",
   "metadata": {},
   "source": [
    "For each topic we pick out the best (2\\*n/3k). This gives us a reduced set of sentences for each topic. These sentence numbers are stored in a numpy array.  "
   ]
  },
  {
   "cell_type": "code",
   "execution_count": 27,
   "metadata": {
    "collapsed": true
   },
   "outputs": [],
   "source": [
    "numOfSents=docsTopicMatrix.shape[0]\n",
    "reducedNumOfSents=floor((2*numOfSents)/(3*numOfTopics))\n",
    "reduced_sent_matrix=np.zeros((reducedNumOfSents,numOfTopics))"
   ]
  },
  {
   "cell_type": "markdown",
   "metadata": {},
   "source": [
    "Loop through each column of the docs-Topic matrix and pick out the top 2n/3k sentence numbers for each topic. "
   ]
  },
  {
   "cell_type": "code",
   "execution_count": 28,
   "metadata": {
    "collapsed": false
   },
   "outputs": [],
   "source": [
    "for j in range(numOfTopics):\n",
    "    #for each column, store sentence number and weight pairs in a matrix\n",
    "    temp_dict={}\n",
    "    for i in range(numOfSents):\n",
    "        temp_dict[i]=docsTopicMatrix[i,j]\n",
    "    \n",
    "    #choose the top 2n/3k sentences by finding the max element and deleting it from the dictionary 2n/3k times     \n",
    "    for i in range(reducedNumOfSents):\n",
    "        k=max(temp_dict, key=temp_dict.get)\n",
    "        v=temp_dict.pop(k, None)\n",
    "        reduced_sent_matrix[i,j]=k"
   ]
  },
  {
   "cell_type": "code",
   "execution_count": 29,
   "metadata": {
    "collapsed": false
   },
   "outputs": [
    {
     "data": {
      "text/plain": [
       "array([[  49.,  225.,  222.,  184.,  128.,   54.,   99.,  316.,  365.,\n",
       "         416.,  329.,  422.,   84.,  101.,  233.,  361.,  358.,  197.,\n",
       "         227.,  406.,    0.,  130.],\n",
       "       [ 183.,  298.,  295.,  394.,  205.,  119.,  145.,  307.,  260.,\n",
       "         347.,  344.,  336.,  443.,  408.,  309.,   42.,  265.,  273.,\n",
       "         350.,  352.,  423.,   86.],\n",
       "       [ 123.,   17.,  291.,  148.,  396.,   89.,  440.,  231.,    1.,\n",
       "         311.,    4.,  181.,  417.,  409.,   61.,   23.,  229.,  133.,\n",
       "         261.,  211.,  402.,   70.],\n",
       "       [ 228.,   95.,  155.,   30.,  131.,  274.,   81.,    2.,  302.,\n",
       "         346.,  112.,   43.,  370.,  413.,   12.,  430.,  305.,  444.,\n",
       "          26.,  339.,  244.,  196.],\n",
       "       [ 304.,  257.,  403.,  117.,  162.,  154.,  193.,   96.,  399.,\n",
       "         191.,  364.,  103.,  323.,  437.,  425.,  219.,   32.,  264.,\n",
       "         327.,  404.,  120.,  362.],\n",
       "       [  20.,    6.,  212.,   60.,  100.,  386.,   18.,   33.,  151.,\n",
       "         224.,  267.,  202.,  359.,   90.,  102.,  421.,   24.,  243.,\n",
       "           5.,  210.,  371.,  104.],\n",
       "       [ 292.,   87.,  431.,  140.,  180.,  290.,  287.,  232.,   80.,\n",
       "         297.,  115.,   82.,  126.,   75.,  314.,  289.,  427.,  139.,\n",
       "         325.,  266.,  221.,  248.],\n",
       "       [  52.,  436.,  281.,  150.,  356.,  276.,  217.,  308.,  415.,\n",
       "          21.,  234.,  303.,  354.,  328.,  242.,  429.,  321.,   74.,\n",
       "         337.,  397.,  294.,    9.],\n",
       "       [ 204.,  322.,  208.,  185.,  349.,  160.,   46.,  317.,  388.,\n",
       "         203.,  310.,   56.,  405.,   29.,  438.,   76.,   19.,  333.,\n",
       "         393.,   83.,  186.,   10.],\n",
       "       [  78.,   63.,  230.,  213.,   93.,  239.,  178.,  400.,   28.,\n",
       "         121.,  246.,  207.,  407.,  253.,   51.,  348.,  376.,  209.,\n",
       "         378.,   65.,  343.,   38.],\n",
       "       [ 315.,  275.,  306.,  283.,  435.,  167.,  301.,  254.,   94.,\n",
       "          57.,    9.,  280.,  262.,   79.,  390.,  441.,  363.,  277.,\n",
       "           7.,   36.,  341.,   39.],\n",
       "       [ 342.,   25.,    3.,  198.,   35.,  189.,   68.,  111.,  410.,\n",
       "         426.,   10.,   73.,  284.,  157.,   92.,  173.,  288.,  161.,\n",
       "         300.,  387.,  251.,   40.],\n",
       "       [ 312.,  199.,  398.,  369.,  114.,  147.,   44.,   48.,  442.,\n",
       "         236.,   38.,    9.,  214.,  428.,  414.,  268.,  218.,   47.,\n",
       "          31.,   58.,  149.,  105.]])"
      ]
     },
     "execution_count": 29,
     "metadata": {},
     "output_type": "execute_result"
    }
   ],
   "source": [
    "reduced_sent_matrix"
   ]
  },
  {
   "cell_type": "code",
   "execution_count": null,
   "metadata": {
    "collapsed": true
   },
   "outputs": [],
   "source": []
  }
 ],
 "metadata": {
  "anaconda-cloud": {},
  "kernelspec": {
   "display_name": "Python [conda root]",
   "language": "python",
   "name": "conda-root-py"
  },
  "language_info": {
   "codemirror_mode": {
    "name": "ipython",
    "version": 3
   },
   "file_extension": ".py",
   "mimetype": "text/x-python",
   "name": "python",
   "nbconvert_exporter": "python",
   "pygments_lexer": "ipython3",
   "version": "3.5.2"
  }
 },
 "nbformat": 4,
 "nbformat_minor": 1
}
